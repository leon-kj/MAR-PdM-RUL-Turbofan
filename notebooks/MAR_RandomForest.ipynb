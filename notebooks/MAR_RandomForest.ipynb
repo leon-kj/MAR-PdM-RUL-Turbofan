{
 "cells": [
  {
   "cell_type": "markdown",
   "id": "ce39783f",
   "metadata": {},
   "source": [
    "# Vorhersage eines Triebwerksausfalls aufgrund von Sensormesswerten"
   ]
  },
  {
   "cell_type": "code",
   "execution_count": 1,
   "id": "65122273",
   "metadata": {},
   "outputs": [],
   "source": [
    "import h5py\n",
    "import numpy as np\n",
    "from pandas import DataFrame\n",
    "import matplotlib.pyplot as plt\n",
    "%matplotlib inline"
   ]
  },
  {
   "cell_type": "code",
   "execution_count": 2,
   "id": "fa129c1a",
   "metadata": {},
   "outputs": [],
   "source": [
    "filename = '../data/N-CMAPSS_DS03-012.h5'"
   ]
  },
  {
   "cell_type": "code",
   "execution_count": 3,
   "id": "55932aa7",
   "metadata": {},
   "outputs": [],
   "source": [
    "# Load data\n",
    "with h5py.File(filename, 'r') as hdf:\n",
    "        # Development set\n",
    "        W_dev = np.array(hdf.get('W_dev'))             # W\n",
    "        X_s_dev = np.array(hdf.get('X_s_dev'))         # Sensors\n",
    "        Y_dev = np.array(hdf.get('Y_dev'))             # RUL  \n",
    "        A_dev = np.array(hdf.get('A_dev'))             # Auxiliary\n",
    "\n",
    "        # Test set\n",
    "        W_test = np.array(hdf.get('W_test'))           # W\n",
    "        X_s_test = np.array(hdf.get('X_s_test'))       # Sensors\n",
    "        Y_test = np.array(hdf.get('Y_test'))           # RUL  \n",
    "        A_test = np.array(hdf.get('A_test'))           # Auxiliary\n",
    "        \n",
    "        # Varnams\n",
    "        W_var = np.array(hdf.get('W_var'))\n",
    "        X_s_var = np.array(hdf.get('X_s_var'))\n",
    "        A_var = np.array(hdf.get('A_var'))\n",
    "        \n",
    "        # from np.array to list dtype U4/U5\n",
    "        W_var = list(np.array(W_var, dtype='U20'))\n",
    "        X_s_var = list(np.array(X_s_var, dtype='U20'))\n",
    "        A_var = list(np.array(A_var, dtype='U20'))"
   ]
  },
  {
   "cell_type": "code",
   "execution_count": 4,
   "id": "253e8336",
   "metadata": {},
   "outputs": [
    {
     "data": {
      "application/vnd.microsoft.datawrangler.viewer.v0+json": {
       "columns": [
        {
         "name": "index",
         "rawType": "object",
         "type": "string"
        },
        {
         "name": "unit",
         "rawType": "float64",
         "type": "float"
        },
        {
         "name": "cycle",
         "rawType": "float64",
         "type": "float"
        },
        {
         "name": "Fc",
         "rawType": "float64",
         "type": "float"
        },
        {
         "name": "hs",
         "rawType": "float64",
         "type": "float"
        }
       ],
       "ref": "72f1c7d3-37ca-42e5-90eb-af73e73f4f83",
       "rows": [
        [
         "count",
         "5571277.0",
         "5571277.0",
         "5571277.0",
         "5571277.0"
        ],
        [
         "mean",
         "5.382994060428157",
         "36.37725659664741",
         "2.1701048072102678",
         "0.3319294660811157"
        ],
        [
         "std",
         "2.3999581381765576",
         "21.575292843339504",
         "0.7257075414406137",
         "0.4709058668470848"
        ],
        [
         "min",
         "1.0",
         "1.0",
         "1.0",
         "0.0"
        ],
        [
         "25%",
         "3.0",
         "18.0",
         "2.0",
         "0.0"
        ],
        [
         "50%",
         "6.0",
         "36.0",
         "2.0",
         "0.0"
        ],
        [
         "75%",
         "8.0",
         "54.0",
         "3.0",
         "1.0"
        ],
        [
         "max",
         "9.0",
         "93.0",
         "3.0",
         "1.0"
        ]
       ],
       "shape": {
        "columns": 4,
        "rows": 8
       }
      },
      "text/html": [
       "<div>\n",
       "<style scoped>\n",
       "    .dataframe tbody tr th:only-of-type {\n",
       "        vertical-align: middle;\n",
       "    }\n",
       "\n",
       "    .dataframe tbody tr th {\n",
       "        vertical-align: top;\n",
       "    }\n",
       "\n",
       "    .dataframe thead th {\n",
       "        text-align: right;\n",
       "    }\n",
       "</style>\n",
       "<table border=\"1\" class=\"dataframe\">\n",
       "  <thead>\n",
       "    <tr style=\"text-align: right;\">\n",
       "      <th></th>\n",
       "      <th>unit</th>\n",
       "      <th>cycle</th>\n",
       "      <th>Fc</th>\n",
       "      <th>hs</th>\n",
       "    </tr>\n",
       "  </thead>\n",
       "  <tbody>\n",
       "    <tr>\n",
       "      <th>count</th>\n",
       "      <td>5.571277e+06</td>\n",
       "      <td>5.571277e+06</td>\n",
       "      <td>5.571277e+06</td>\n",
       "      <td>5.571277e+06</td>\n",
       "    </tr>\n",
       "    <tr>\n",
       "      <th>mean</th>\n",
       "      <td>5.382994e+00</td>\n",
       "      <td>3.637726e+01</td>\n",
       "      <td>2.170105e+00</td>\n",
       "      <td>3.319295e-01</td>\n",
       "    </tr>\n",
       "    <tr>\n",
       "      <th>std</th>\n",
       "      <td>2.399958e+00</td>\n",
       "      <td>2.157529e+01</td>\n",
       "      <td>7.257075e-01</td>\n",
       "      <td>4.709059e-01</td>\n",
       "    </tr>\n",
       "    <tr>\n",
       "      <th>min</th>\n",
       "      <td>1.000000e+00</td>\n",
       "      <td>1.000000e+00</td>\n",
       "      <td>1.000000e+00</td>\n",
       "      <td>0.000000e+00</td>\n",
       "    </tr>\n",
       "    <tr>\n",
       "      <th>25%</th>\n",
       "      <td>3.000000e+00</td>\n",
       "      <td>1.800000e+01</td>\n",
       "      <td>2.000000e+00</td>\n",
       "      <td>0.000000e+00</td>\n",
       "    </tr>\n",
       "    <tr>\n",
       "      <th>50%</th>\n",
       "      <td>6.000000e+00</td>\n",
       "      <td>3.600000e+01</td>\n",
       "      <td>2.000000e+00</td>\n",
       "      <td>0.000000e+00</td>\n",
       "    </tr>\n",
       "    <tr>\n",
       "      <th>75%</th>\n",
       "      <td>8.000000e+00</td>\n",
       "      <td>5.400000e+01</td>\n",
       "      <td>3.000000e+00</td>\n",
       "      <td>1.000000e+00</td>\n",
       "    </tr>\n",
       "    <tr>\n",
       "      <th>max</th>\n",
       "      <td>9.000000e+00</td>\n",
       "      <td>9.300000e+01</td>\n",
       "      <td>3.000000e+00</td>\n",
       "      <td>1.000000e+00</td>\n",
       "    </tr>\n",
       "  </tbody>\n",
       "</table>\n",
       "</div>"
      ],
      "text/plain": [
       "               unit         cycle            Fc            hs\n",
       "count  5.571277e+06  5.571277e+06  5.571277e+06  5.571277e+06\n",
       "mean   5.382994e+00  3.637726e+01  2.170105e+00  3.319295e-01\n",
       "std    2.399958e+00  2.157529e+01  7.257075e-01  4.709059e-01\n",
       "min    1.000000e+00  1.000000e+00  1.000000e+00  0.000000e+00\n",
       "25%    3.000000e+00  1.800000e+01  2.000000e+00  0.000000e+00\n",
       "50%    6.000000e+00  3.600000e+01  2.000000e+00  0.000000e+00\n",
       "75%    8.000000e+00  5.400000e+01  3.000000e+00  1.000000e+00\n",
       "max    9.000000e+00  9.300000e+01  3.000000e+00  1.000000e+00"
      ]
     },
     "execution_count": 4,
     "metadata": {},
     "output_type": "execute_result"
    }
   ],
   "source": [
    "df_A = DataFrame(data=A_dev, columns=A_var)\n",
    "df_A_test = DataFrame(data=A_test, columns=A_var)\n",
    "df_A.describe()\n"
   ]
  },
  {
   "cell_type": "markdown",
   "id": "aef72245",
   "metadata": {},
   "source": [
    "### Unit Ids \n",
    "Mit diesem Codeabschnitt wird geschaut wie viele Triebwerke im Devset und im Testset sind."
   ]
  },
  {
   "cell_type": "code",
   "execution_count": 5,
   "id": "3ddc8a07",
   "metadata": {},
   "outputs": [
    {
     "name": "stdout",
     "output_type": "stream",
     "text": [
      "[1. 2. 3. 4. 5. 6. 7. 8. 9.]\n",
      "[10. 11. 12. 13. 14. 15.]\n"
     ]
    }
   ],
   "source": [
    "print(np.unique(df_A[\"unit\"]))\n",
    "print(np.unique(df_A_test[\"unit\"]))"
   ]
  },
  {
   "cell_type": "markdown",
   "id": "7694ae66",
   "metadata": {},
   "source": [
    "## Datenaufbereitung"
   ]
  },
  {
   "cell_type": "code",
   "execution_count": 4,
   "id": "66add180",
   "metadata": {},
   "outputs": [],
   "source": [
    "# Train\n",
    "fc = A_dev[:, 0].reshape(-1, 1)\n",
    "X_dev = X_s_dev \n",
    "X_train = np.concatenate((X_dev, fc, W_dev), axis=1)\n",
    "Y_train = Y_dev.ravel()\n",
    "\n",
    "# Test\n",
    "fc_test = A_test[:, 0].reshape(-1, 1)\n",
    "X_test = X_s_test\n",
    "X_test = np.concatenate((X_test, fc_test, W_test), axis=1)\n",
    "Y_test = Y_test.ravel()"
   ]
  },
  {
   "cell_type": "markdown",
   "id": "2d22cc9c",
   "metadata": {},
   "source": [
    "## Random Forest"
   ]
  },
  {
   "cell_type": "code",
   "execution_count": 6,
   "id": "9a307c2b",
   "metadata": {},
   "outputs": [],
   "source": [
    "# Import\n",
    "from sklearn.ensemble import RandomForestRegressor\n",
    "from sklearn.metrics import root_mean_squared_error\n",
    "import joblib"
   ]
  },
  {
   "cell_type": "markdown",
   "id": "7de84661",
   "metadata": {},
   "source": [
    "### Model Training"
   ]
  },
  {
   "cell_type": "code",
   "execution_count": 7,
   "id": "f610e031",
   "metadata": {},
   "outputs": [
    {
     "name": "stderr",
     "output_type": "stream",
     "text": [
      "[Parallel(n_jobs=1)]: Done  20 out of  20 | elapsed: 63.3min finished\n"
     ]
    },
    {
     "data": {
      "text/plain": [
       "['../models/rul_random_forest.pkl']"
      ]
     },
     "execution_count": 7,
     "metadata": {},
     "output_type": "execute_result"
    }
   ],
   "source": [
    "# Train model\n",
    "model = RandomForestRegressor(n_estimators=20, random_state=42, verbose=1)\n",
    "model.fit(X_train, Y_train)\n",
    "\n",
    "# Save the model\n",
    "joblib.dump(model, '../models/rul_random_forest.pkl')"
   ]
  },
  {
   "cell_type": "markdown",
   "id": "cf154d98",
   "metadata": {},
   "source": [
    "### Vorhersage"
   ]
  },
  {
   "cell_type": "code",
   "execution_count": 7,
   "id": "633cbf64",
   "metadata": {},
   "outputs": [
    {
     "name": "stdout",
     "output_type": "stream",
     "text": [
      "Model loaded\n"
     ]
    },
    {
     "name": "stderr",
     "output_type": "stream",
     "text": [
      "[Parallel(n_jobs=1)]: Done  20 out of  20 | elapsed:    8.8s finished\n"
     ]
    }
   ],
   "source": [
    "# Load the model\n",
    "model = joblib.load('../models/rul_random_forest.pkl')\n",
    "print(\"Model loaded\")\n",
    "\n",
    "# Predict\n",
    "Y_pred = model.predict(X_test)"
   ]
  },
  {
   "cell_type": "markdown",
   "id": "567f28c8",
   "metadata": {},
   "source": [
    "### Evaluation"
   ]
  },
  {
   "cell_type": "code",
   "execution_count": 8,
   "id": "4608338d",
   "metadata": {},
   "outputs": [
    {
     "name": "stdout",
     "output_type": "stream",
     "text": [
      "Test RMSE: 10.92\n"
     ]
    }
   ],
   "source": [
    "# Evaluation\n",
    "rmse = root_mean_squared_error(Y_test, Y_pred)\n",
    "print(f\"Test RMSE: {rmse:.2f}\")"
   ]
  },
  {
   "cell_type": "code",
   "execution_count": 13,
   "id": "a9291e33",
   "metadata": {},
   "outputs": [
    {
     "data": {
      "image/png": "[encoded data removed]",
      "text/plain": [
       "<Figure size 1000x400 with 1 Axes>"
      ]
     },
     "metadata": {},
     "output_type": "display_data"
    }
   ],
   "source": [
    "# Feature importances\n",
    "importances = model.feature_importances_\n",
    "feature_names = (X_s_var + [\"fc\"] + W_var)\n",
    "plt.figure(figsize=(10, 4))\n",
    "plt.bar(feature_names, importances)\n",
    "plt.xlabel(\"Feature index\")\n",
    "plt.ylabel(\"Importance\")\n",
    "plt.title(\"Random Forest Feature Importances\")\n",
    "plt.show()"
   ]
  },
  {
   "cell_type": "code",
   "execution_count": 15,
   "id": "c0c7ac4e",
   "metadata": {},
   "outputs": [
    {
     "data": {
      "image/png": "[encoded data removed]",
      "text/plain": [
       "<Figure size 1000x400 with 1 Axes>"
      ]
     },
     "metadata": {},
     "output_type": "display_data"
    }
   ],
   "source": [
    "unit_ids_test = A_test[:, 0]\n",
    "unit = 12\n",
    "indices = np.where(unit_ids_test == unit)[0]\n",
    "\n",
    "plt.figure(figsize=(10, 4))\n",
    "plt.plot(Y_pred[indices], label=\"Predicted RUL\", color='tab:orange')\n",
    "plt.plot(Y_test[indices], label=\"True RUL\", color='tab:blue')\n",
    "plt.title(f\"Engine {unit} - Random Forest - True vs Predicted RUL\")\n",
    "plt.xlabel(\"Time step [s]\")\n",
    "plt.ylabel(\"RUL\")\n",
    "plt.legend()\n",
    "plt.grid(True)\n",
    "plt.show()\n"
   ]
  }
 ],
 "metadata": {
  "kernelspec": {
   "display_name": ".venv",
   "language": "python",
   "name": "python3"
  },
  "language_info": {
   "codemirror_mode": {
    "name": "ipython",
    "version": 3
   },
   "file_extension": ".py",
   "mimetype": "text/x-python",
   "name": "python",
   "nbconvert_exporter": "python",
   "pygments_lexer": "ipython3",
   "version": "3.13.2"
  }
 },
 "nbformat": 4,
 "nbformat_minor": 5
}
