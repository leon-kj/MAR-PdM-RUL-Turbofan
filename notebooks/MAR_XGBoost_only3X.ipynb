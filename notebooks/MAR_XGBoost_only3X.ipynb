{
 "cells": [
  {
   "cell_type": "markdown",
   "id": "ce39783f",
   "metadata": {},
   "source": [
    "# Vorhersage eines Triebwerksausfalls aufgrund von Sensormesswerten"
   ]
  },
  {
   "cell_type": "code",
   "execution_count": 1,
   "id": "65122273",
   "metadata": {},
   "outputs": [],
   "source": [
    "import h5py\n",
    "import numpy as np\n",
    "from pandas import DataFrame\n",
    "import matplotlib.pyplot as plt\n",
    "%matplotlib inline"
   ]
  },
  {
   "cell_type": "code",
   "execution_count": 2,
   "id": "fa129c1a",
   "metadata": {},
   "outputs": [],
   "source": [
    "filename = '../data/N-CMAPSS_DS03-012.h5'"
   ]
  },
  {
   "cell_type": "code",
   "execution_count": 3,
   "id": "55932aa7",
   "metadata": {},
   "outputs": [],
   "source": [
    "# Load data\n",
    "with h5py.File(filename, 'r') as hdf:\n",
    "        # Development set\n",
    "        W_dev = np.array(hdf.get('W_dev'))             # W\n",
    "        X_s_dev = np.array(hdf.get('X_s_dev'))         # Sensors\n",
    "        Y_dev = np.array(hdf.get('Y_dev'))             # RUL  \n",
    "        A_dev = np.array(hdf.get('A_dev'))             # Auxiliary\n",
    "\n",
    "        # Test set\n",
    "        W_test = np.array(hdf.get('W_test'))           # W\n",
    "        X_s_test = np.array(hdf.get('X_s_test'))       # Sensors\n",
    "        Y_test = np.array(hdf.get('Y_test'))           # RUL  \n",
    "        A_test = np.array(hdf.get('A_test'))           # Auxiliary\n",
    "        \n",
    "        # Varnams\n",
    "        W_var = np.array(hdf.get('W_var'))\n",
    "        X_s_var = np.array(hdf.get('X_s_var'))\n",
    "        A_var = np.array(hdf.get('A_var'))\n",
    "        \n",
    "        # from np.array to list dtype U4/U5\n",
    "        W_var = list(np.array(W_var, dtype='U20'))\n",
    "        X_s_var = list(np.array(X_s_var, dtype='U20'))\n",
    "        A_var = list(np.array(A_var, dtype='U20'))"
   ]
  },
  {
   "cell_type": "code",
   "execution_count": 16,
   "id": "253e8336",
   "metadata": {},
   "outputs": [
    {
     "data": {
      "application/vnd.microsoft.datawrangler.viewer.v0+json": {
       "columns": [
        {
         "name": "index",
         "rawType": "object",
         "type": "string"
        },
        {
         "name": "unit",
         "rawType": "float64",
         "type": "float"
        },
        {
         "name": "cycle",
         "rawType": "float64",
         "type": "float"
        },
        {
         "name": "Fc",
         "rawType": "float64",
         "type": "float"
        },
        {
         "name": "hs",
         "rawType": "float64",
         "type": "float"
        }
       ],
       "ref": "8a12a766-8295-4838-86f9-35d1e3f59fc7",
       "rows": [
        [
         "count",
         "5571277.0",
         "5571277.0",
         "5571277.0",
         "5571277.0"
        ],
        [
         "mean",
         "5.382994060428157",
         "36.37725659664741",
         "2.1701048072102678",
         "0.3319294660811157"
        ],
        [
         "std",
         "2.3999581381765576",
         "21.575292843339504",
         "0.7257075414406137",
         "0.4709058668470848"
        ],
        [
         "min",
         "1.0",
         "1.0",
         "1.0",
         "0.0"
        ],
        [
         "25%",
         "3.0",
         "18.0",
         "2.0",
         "0.0"
        ],
        [
         "50%",
         "6.0",
         "36.0",
         "2.0",
         "0.0"
        ],
        [
         "75%",
         "8.0",
         "54.0",
         "3.0",
         "1.0"
        ],
        [
         "max",
         "9.0",
         "93.0",
         "3.0",
         "1.0"
        ]
       ],
       "shape": {
        "columns": 4,
        "rows": 8
       }
      },
      "text/html": [
       "<div>\n",
       "<style scoped>\n",
       "    .dataframe tbody tr th:only-of-type {\n",
       "        vertical-align: middle;\n",
       "    }\n",
       "\n",
       "    .dataframe tbody tr th {\n",
       "        vertical-align: top;\n",
       "    }\n",
       "\n",
       "    .dataframe thead th {\n",
       "        text-align: right;\n",
       "    }\n",
       "</style>\n",
       "<table border=\"1\" class=\"dataframe\">\n",
       "  <thead>\n",
       "    <tr style=\"text-align: right;\">\n",
       "      <th></th>\n",
       "      <th>unit</th>\n",
       "      <th>cycle</th>\n",
       "      <th>Fc</th>\n",
       "      <th>hs</th>\n",
       "    </tr>\n",
       "  </thead>\n",
       "  <tbody>\n",
       "    <tr>\n",
       "      <th>count</th>\n",
       "      <td>5.571277e+06</td>\n",
       "      <td>5.571277e+06</td>\n",
       "      <td>5.571277e+06</td>\n",
       "      <td>5.571277e+06</td>\n",
       "    </tr>\n",
       "    <tr>\n",
       "      <th>mean</th>\n",
       "      <td>5.382994e+00</td>\n",
       "      <td>3.637726e+01</td>\n",
       "      <td>2.170105e+00</td>\n",
       "      <td>3.319295e-01</td>\n",
       "    </tr>\n",
       "    <tr>\n",
       "      <th>std</th>\n",
       "      <td>2.399958e+00</td>\n",
       "      <td>2.157529e+01</td>\n",
       "      <td>7.257075e-01</td>\n",
       "      <td>4.709059e-01</td>\n",
       "    </tr>\n",
       "    <tr>\n",
       "      <th>min</th>\n",
       "      <td>1.000000e+00</td>\n",
       "      <td>1.000000e+00</td>\n",
       "      <td>1.000000e+00</td>\n",
       "      <td>0.000000e+00</td>\n",
       "    </tr>\n",
       "    <tr>\n",
       "      <th>25%</th>\n",
       "      <td>3.000000e+00</td>\n",
       "      <td>1.800000e+01</td>\n",
       "      <td>2.000000e+00</td>\n",
       "      <td>0.000000e+00</td>\n",
       "    </tr>\n",
       "    <tr>\n",
       "      <th>50%</th>\n",
       "      <td>6.000000e+00</td>\n",
       "      <td>3.600000e+01</td>\n",
       "      <td>2.000000e+00</td>\n",
       "      <td>0.000000e+00</td>\n",
       "    </tr>\n",
       "    <tr>\n",
       "      <th>75%</th>\n",
       "      <td>8.000000e+00</td>\n",
       "      <td>5.400000e+01</td>\n",
       "      <td>3.000000e+00</td>\n",
       "      <td>1.000000e+00</td>\n",
       "    </tr>\n",
       "    <tr>\n",
       "      <th>max</th>\n",
       "      <td>9.000000e+00</td>\n",
       "      <td>9.300000e+01</td>\n",
       "      <td>3.000000e+00</td>\n",
       "      <td>1.000000e+00</td>\n",
       "    </tr>\n",
       "  </tbody>\n",
       "</table>\n",
       "</div>"
      ],
      "text/plain": [
       "               unit         cycle            Fc            hs\n",
       "count  5.571277e+06  5.571277e+06  5.571277e+06  5.571277e+06\n",
       "mean   5.382994e+00  3.637726e+01  2.170105e+00  3.319295e-01\n",
       "std    2.399958e+00  2.157529e+01  7.257075e-01  4.709059e-01\n",
       "min    1.000000e+00  1.000000e+00  1.000000e+00  0.000000e+00\n",
       "25%    3.000000e+00  1.800000e+01  2.000000e+00  0.000000e+00\n",
       "50%    6.000000e+00  3.600000e+01  2.000000e+00  0.000000e+00\n",
       "75%    8.000000e+00  5.400000e+01  3.000000e+00  1.000000e+00\n",
       "max    9.000000e+00  9.300000e+01  3.000000e+00  1.000000e+00"
      ]
     },
     "execution_count": 16,
     "metadata": {},
     "output_type": "execute_result"
    }
   ],
   "source": [
    "df_A = DataFrame(data=A_dev, columns=A_var)\n",
    "df_A_test = DataFrame(data=A_test, columns=A_var)\n",
    "df_A.describe()\n"
   ]
  },
  {
   "cell_type": "markdown",
   "id": "aef72245",
   "metadata": {},
   "source": [
    "### Unit Ids \n",
    "Mit diesem Codeabschnitt wird geschaut wie viele Triebwerke im Devset und im Testset sind."
   ]
  },
  {
   "cell_type": "code",
   "execution_count": 17,
   "id": "3ddc8a07",
   "metadata": {},
   "outputs": [
    {
     "name": "stdout",
     "output_type": "stream",
     "text": [
      "[1. 2. 3. 4. 5. 6. 7. 8. 9.]\n",
      "[10. 11. 12. 13. 14. 15.]\n"
     ]
    }
   ],
   "source": [
    "print(np.unique(df_A[\"unit\"]))\n",
    "print(np.unique(df_A_test[\"unit\"]))"
   ]
  },
  {
   "cell_type": "markdown",
   "id": "7694ae66",
   "metadata": {},
   "source": [
    "## Datenaufbereitung"
   ]
  },
  {
   "cell_type": "code",
   "execution_count": 4,
   "id": "66add180",
   "metadata": {},
   "outputs": [],
   "source": [
    "# Train\n",
    "fc = A_dev[:, 0].reshape(-1, 1)\n",
    "X_dev = X_s_dev[:, [3, 8, 12]]\n",
    "X_train = np.concatenate((X_dev, fc), axis=1)\n",
    "Y_train = Y_dev.ravel()\n",
    "\n",
    "# Test\n",
    "fc_test = A_test[:, 0].reshape(-1, 1)\n",
    "X_test = X_s_test[:, [3, 8, 12]]\n",
    "X_test = np.concatenate((X_test, fc_test), axis=1)\n",
    "Y_test = Y_test.ravel()"
   ]
  },
  {
   "cell_type": "markdown",
   "id": "2d22cc9c",
   "metadata": {},
   "source": [
    "## XGBoost"
   ]
  },
  {
   "cell_type": "code",
   "execution_count": 5,
   "id": "9a307c2b",
   "metadata": {},
   "outputs": [],
   "source": [
    "# Import\n",
    "import xgboost as xgb\n",
    "from sklearn.metrics import root_mean_squared_error"
   ]
  },
  {
   "cell_type": "code",
   "execution_count": 6,
   "id": "a8d002ff",
   "metadata": {},
   "outputs": [],
   "source": [
    "feature_names = ([\"T50\", \"Ps30\", \"Nc\"] + [\"fc\"])\n",
    "dtrain = xgb.DMatrix(X_train, label=Y_train, feature_names=feature_names)\n",
    "dtest = xgb.DMatrix(X_test, label=Y_test, feature_names=feature_names)"
   ]
  },
  {
   "cell_type": "markdown",
   "id": "7de84661",
   "metadata": {},
   "source": [
    "### Model Training"
   ]
  },
  {
   "cell_type": "code",
   "execution_count": null,
   "id": "f610e031",
   "metadata": {},
   "outputs": [
    {
     "name": "stdout",
     "output_type": "stream",
     "text": [
      "[0]\ttrain-rmse:21.42563\teval-rmse:21.24753\n",
      "[10]\ttrain-rmse:20.42734\teval-rmse:20.64203\n",
      "[20]\ttrain-rmse:19.75932\teval-rmse:20.24259\n",
      "[30]\ttrain-rmse:19.14604\teval-rmse:19.76197\n",
      "[40]\ttrain-rmse:18.62985\teval-rmse:19.35873\n",
      "[50]\ttrain-rmse:18.09915\teval-rmse:18.89727\n",
      "[60]\ttrain-rmse:17.68997\teval-rmse:18.55124\n",
      "[70]\ttrain-rmse:17.33582\teval-rmse:18.26092\n",
      "[80]\ttrain-rmse:16.92632\teval-rmse:17.88958\n",
      "[90]\ttrain-rmse:16.70458\teval-rmse:17.75123\n",
      "[100]\ttrain-rmse:16.35584\teval-rmse:17.44755\n",
      "[110]\ttrain-rmse:16.08565\teval-rmse:17.19831\n",
      "[120]\ttrain-rmse:15.76505\teval-rmse:16.89608\n",
      "[130]\ttrain-rmse:15.58630\teval-rmse:16.70234\n",
      "[140]\ttrain-rmse:15.39740\teval-rmse:16.51867\n",
      "[150]\ttrain-rmse:15.17507\teval-rmse:16.33156\n",
      "[160]\ttrain-rmse:14.97218\teval-rmse:16.17090\n",
      "[170]\ttrain-rmse:14.77670\teval-rmse:15.95470\n",
      "[180]\ttrain-rmse:14.58934\teval-rmse:15.82289\n",
      "[190]\ttrain-rmse:14.42995\teval-rmse:15.68613\n",
      "[200]\ttrain-rmse:14.26553\teval-rmse:15.54567\n",
      "[210]\ttrain-rmse:14.11926\teval-rmse:15.44916\n",
      "[220]\ttrain-rmse:13.99185\teval-rmse:15.30607\n",
      "[230]\ttrain-rmse:13.84604\teval-rmse:15.17981\n",
      "[240]\ttrain-rmse:13.73244\teval-rmse:15.09423\n",
      "[250]\ttrain-rmse:13.64937\teval-rmse:14.99612\n",
      "[260]\ttrain-rmse:13.55278\teval-rmse:15.02709\n",
      "[270]\ttrain-rmse:13.46938\teval-rmse:14.91032\n",
      "[280]\ttrain-rmse:13.37850\teval-rmse:14.84579\n",
      "[290]\ttrain-rmse:13.29808\teval-rmse:14.77938\n",
      "[300]\ttrain-rmse:13.20464\teval-rmse:14.72335\n",
      "[310]\ttrain-rmse:13.13009\teval-rmse:14.63679\n",
      "[320]\ttrain-rmse:13.06187\teval-rmse:14.60373\n",
      "[330]\ttrain-rmse:13.02286\teval-rmse:14.64322\n",
      "[340]\ttrain-rmse:12.95813\teval-rmse:14.64430\n",
      "[350]\ttrain-rmse:12.90185\teval-rmse:14.56512\n",
      "[360]\ttrain-rmse:12.86322\teval-rmse:14.56721\n",
      "[370]\ttrain-rmse:12.81461\teval-rmse:14.52995\n",
      "[380]\ttrain-rmse:12.76523\teval-rmse:14.50218\n",
      "[390]\ttrain-rmse:12.70063\teval-rmse:14.45839\n",
      "[400]\ttrain-rmse:12.66296\teval-rmse:14.42795\n",
      "[410]\ttrain-rmse:12.62760\teval-rmse:14.42785\n",
      "[420]\ttrain-rmse:12.58748\teval-rmse:14.37852\n",
      "[430]\ttrain-rmse:12.55279\teval-rmse:14.36561\n",
      "[440]\ttrain-rmse:12.51267\teval-rmse:14.38958\n",
      "[450]\ttrain-rmse:12.47423\teval-rmse:14.36673\n",
      "[460]\ttrain-rmse:12.44234\teval-rmse:14.33123\n",
      "[470]\ttrain-rmse:12.41107\teval-rmse:14.31815\n",
      "[480]\ttrain-rmse:12.38365\teval-rmse:14.31172\n",
      "[490]\ttrain-rmse:12.35805\teval-rmse:14.31199\n",
      "[500]\ttrain-rmse:12.33483\teval-rmse:14.29204\n",
      "[510]\ttrain-rmse:12.30228\teval-rmse:14.27701\n",
      "[520]\ttrain-rmse:12.26793\teval-rmse:14.28353\n",
      "[530]\ttrain-rmse:12.24336\teval-rmse:14.26850\n",
      "[540]\ttrain-rmse:12.22472\teval-rmse:14.26653\n",
      "[550]\ttrain-rmse:12.20526\teval-rmse:14.24504\n",
      "[560]\ttrain-rmse:12.18095\teval-rmse:14.22915\n",
      "[570]\ttrain-rmse:12.16429\teval-rmse:14.27087\n",
      "[580]\ttrain-rmse:12.13840\teval-rmse:14.27119\n",
      "[590]\ttrain-rmse:12.11978\teval-rmse:14.25897\n",
      "[600]\ttrain-rmse:12.09912\teval-rmse:14.31407\n",
      "[610]\ttrain-rmse:12.08175\teval-rmse:14.29805\n",
      "[620]\ttrain-rmse:12.06512\teval-rmse:14.28052\n",
      "[629]\ttrain-rmse:12.04848\teval-rmse:14.26161\n"
     ]
    }
   ],
   "source": [
    "# Training parameters\n",
    "params = {\n",
    "    \"objective\": \"reg:squarederror\",   # regression\n",
    "    \"max_depth\": 5,                    # tree depth\n",
    "    \"eta\": 0.05,                       # learning rate\n",
    "    \"subsample\": 0.8,                  # row sampling\n",
    "    \"colsample_bytree\": 0.8,           # feature\n",
    "    \"gamma\": 0.1,                      # require improvement to split \n",
    "    \"tree_method\": \"hist\",             # use GPU for training\n",
    "    \"device\": \"cuda\",                  # use GPU\n",
    "    \"seed\": 42\n",
    "}\n",
    "\n",
    "# Train model\n",
    "num_round = 630\n",
    "evallist = [(dtrain, \"train\"), (dtest, \"eval\")]\n",
    "\n",
    "bst = xgb.train(\n",
    "    params, \n",
    "    dtrain, \n",
    "    num_round, \n",
    "    evals=evallist, \n",
    "    #early_stopping_rounds=20,  # stop if no improvement\n",
    "    verbose_eval=10            # print progress every 10 rounds\n",
    ")\n",
    "\n",
    "bst.save_model(\"../models/xgb_rul_only3X.json\")"
   ]
  },
  {
   "cell_type": "markdown",
   "id": "cf154d98",
   "metadata": {},
   "source": [
    "### Vorhersage"
   ]
  },
  {
   "cell_type": "code",
   "execution_count": 7,
   "id": "633cbf64",
   "metadata": {},
   "outputs": [],
   "source": [
    "# Load the model\n",
    "model = xgb.Booster()\n",
    "model.load_model(\"../models/xgb_rul_only3X.json\")\n",
    "\n",
    "# Predict\n",
    "Y_pred = model.predict(dtest)"
   ]
  },
  {
   "cell_type": "markdown",
   "id": "567f28c8",
   "metadata": {},
   "source": [
    "### Evaluation"
   ]
  },
  {
   "cell_type": "code",
   "execution_count": 13,
   "id": "4608338d",
   "metadata": {},
   "outputs": [
    {
     "name": "stdout",
     "output_type": "stream",
     "text": [
      "Test RMSE: 14.26\n"
     ]
    }
   ],
   "source": [
    "# Evaluation\n",
    "rmse = root_mean_squared_error(Y_test, Y_pred)\n",
    "print(f\"Test RMSE: {rmse:.2f}\")"
   ]
  },
  {
   "cell_type": "code",
   "execution_count": 9,
   "id": "a9291e33",
   "metadata": {},
   "outputs": [
    {
     "data": {
      "image/png": "[encoded data removed]",
      "text/plain": [
       "<Figure size 1000x400 with 1 Axes>"
      ]
     },
     "metadata": {},
     "output_type": "display_data"
    }
   ],
   "source": [
    "# Feature importances\n",
    "fig, ax = plt.subplots(figsize=(10, 4))\n",
    "xgb.plot_importance(model, importance_type=\"gain\", height=0.5, ax=ax)\n",
    "ax.set_ylabel(\"Feature\")\n",
    "ax.set_xlabel(\"Importance\")\n",
    "ax.set_title(\"XGBoost Only 3 X Feature Importances\")\n",
    "plt.show()"
   ]
  },
  {
   "cell_type": "code",
   "execution_count": 10,
   "id": "c0c7ac4e",
   "metadata": {},
   "outputs": [
    {
     "data": {
      "image/png": "[encoded data removed]",
      "text/plain": [
       "<Figure size 1000x400 with 1 Axes>"
      ]
     },
     "metadata": {},
     "output_type": "display_data"
    }
   ],
   "source": [
    "unit_ids_test = A_test[:, 0]\n",
    "unit = 12\n",
    "indices = np.where(unit_ids_test == unit)[0]\n",
    "\n",
    "plt.figure(figsize=(10, 4))\n",
    "plt.plot(Y_pred[indices], label=\"Predicted RUL\", color='tab:orange')\n",
    "plt.plot(Y_test[indices], label=\"True RUL\", color='tab:blue')\n",
    "plt.title(f\"Engine {unit} - XGBoost Only 3 X - True vs Predicted RUL\")\n",
    "plt.xlabel(\"Time step [s]\")\n",
    "plt.ylabel(\"RUL\")\n",
    "plt.legend()\n",
    "plt.grid(True)\n",
    "plt.show()"
   ]
  }
 ],
 "metadata": {
  "kernelspec": {
   "display_name": ".venv",
   "language": "python",
   "name": "python3"
  },
  "language_info": {
   "codemirror_mode": {
    "name": "ipython",
    "version": 3
   },
   "file_extension": ".py",
   "mimetype": "text/x-python",
   "name": "python",
   "nbconvert_exporter": "python",
   "pygments_lexer": "ipython3",
   "version": "3.13.2"
  }
 },
 "nbformat": 4,
 "nbformat_minor": 5
}
