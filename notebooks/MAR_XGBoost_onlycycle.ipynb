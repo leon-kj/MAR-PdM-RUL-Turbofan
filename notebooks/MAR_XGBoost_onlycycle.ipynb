{
 "cells": [
  {
   "cell_type": "markdown",
   "id": "ce39783f",
   "metadata": {},
   "source": [
    "# Vorhersage eines Triebwerksausfalls aufgrund von Sensormesswerten"
   ]
  },
  {
   "cell_type": "code",
   "execution_count": 7,
   "id": "65122273",
   "metadata": {},
   "outputs": [],
   "source": [
    "import h5py\n",
    "import numpy as np\n",
    "from pandas import DataFrame\n",
    "import matplotlib.pyplot as plt\n",
    "%matplotlib inline"
   ]
  },
  {
   "cell_type": "code",
   "execution_count": null,
   "id": "fa129c1a",
   "metadata": {},
   "outputs": [],
   "source": [
    "filename = '../data/N-CMAPSS_DS03-012.h5'"
   ]
  },
  {
   "cell_type": "code",
   "execution_count": 4,
   "id": "55932aa7",
   "metadata": {},
   "outputs": [],
   "source": [
    "# Load data\n",
    "with h5py.File(filename, 'r') as hdf:\n",
    "        # Development set\n",
    "        Y_dev = np.array(hdf.get('Y_dev'))             # RUL  \n",
    "        A_dev = np.array(hdf.get('A_dev'))             # Auxiliary\n",
    "\n",
    "        # Test set\n",
    "        Y_test = np.array(hdf.get('Y_test'))           # RUL  \n",
    "        A_test = np.array(hdf.get('A_test'))           # Auxiliary\n",
    "        \n",
    "        # Varnams\n",
    "        A_var = np.array(hdf.get('A_var'))\n",
    "        \n",
    "        # from np.array to list dtype U4/U5\n",
    "        A_var = list(np.array(A_var, dtype='U20'))"
   ]
  },
  {
   "cell_type": "code",
   "execution_count": 16,
   "id": "253e8336",
   "metadata": {},
   "outputs": [
    {
     "data": {
      "application/vnd.microsoft.datawrangler.viewer.v0+json": {
       "columns": [
        {
         "name": "index",
         "rawType": "object",
         "type": "string"
        },
        {
         "name": "unit",
         "rawType": "float64",
         "type": "float"
        },
        {
         "name": "cycle",
         "rawType": "float64",
         "type": "float"
        },
        {
         "name": "Fc",
         "rawType": "float64",
         "type": "float"
        },
        {
         "name": "hs",
         "rawType": "float64",
         "type": "float"
        }
       ],
       "ref": "8a12a766-8295-4838-86f9-35d1e3f59fc7",
       "rows": [
        [
         "count",
         "5571277.0",
         "5571277.0",
         "5571277.0",
         "5571277.0"
        ],
        [
         "mean",
         "5.382994060428157",
         "36.37725659664741",
         "2.1701048072102678",
         "0.3319294660811157"
        ],
        [
         "std",
         "2.3999581381765576",
         "21.575292843339504",
         "0.7257075414406137",
         "0.4709058668470848"
        ],
        [
         "min",
         "1.0",
         "1.0",
         "1.0",
         "0.0"
        ],
        [
         "25%",
         "3.0",
         "18.0",
         "2.0",
         "0.0"
        ],
        [
         "50%",
         "6.0",
         "36.0",
         "2.0",
         "0.0"
        ],
        [
         "75%",
         "8.0",
         "54.0",
         "3.0",
         "1.0"
        ],
        [
         "max",
         "9.0",
         "93.0",
         "3.0",
         "1.0"
        ]
       ],
       "shape": {
        "columns": 4,
        "rows": 8
       }
      },
      "text/html": [
       "<div>\n",
       "<style scoped>\n",
       "    .dataframe tbody tr th:only-of-type {\n",
       "        vertical-align: middle;\n",
       "    }\n",
       "\n",
       "    .dataframe tbody tr th {\n",
       "        vertical-align: top;\n",
       "    }\n",
       "\n",
       "    .dataframe thead th {\n",
       "        text-align: right;\n",
       "    }\n",
       "</style>\n",
       "<table border=\"1\" class=\"dataframe\">\n",
       "  <thead>\n",
       "    <tr style=\"text-align: right;\">\n",
       "      <th></th>\n",
       "      <th>unit</th>\n",
       "      <th>cycle</th>\n",
       "      <th>Fc</th>\n",
       "      <th>hs</th>\n",
       "    </tr>\n",
       "  </thead>\n",
       "  <tbody>\n",
       "    <tr>\n",
       "      <th>count</th>\n",
       "      <td>5.571277e+06</td>\n",
       "      <td>5.571277e+06</td>\n",
       "      <td>5.571277e+06</td>\n",
       "      <td>5.571277e+06</td>\n",
       "    </tr>\n",
       "    <tr>\n",
       "      <th>mean</th>\n",
       "      <td>5.382994e+00</td>\n",
       "      <td>3.637726e+01</td>\n",
       "      <td>2.170105e+00</td>\n",
       "      <td>3.319295e-01</td>\n",
       "    </tr>\n",
       "    <tr>\n",
       "      <th>std</th>\n",
       "      <td>2.399958e+00</td>\n",
       "      <td>2.157529e+01</td>\n",
       "      <td>7.257075e-01</td>\n",
       "      <td>4.709059e-01</td>\n",
       "    </tr>\n",
       "    <tr>\n",
       "      <th>min</th>\n",
       "      <td>1.000000e+00</td>\n",
       "      <td>1.000000e+00</td>\n",
       "      <td>1.000000e+00</td>\n",
       "      <td>0.000000e+00</td>\n",
       "    </tr>\n",
       "    <tr>\n",
       "      <th>25%</th>\n",
       "      <td>3.000000e+00</td>\n",
       "      <td>1.800000e+01</td>\n",
       "      <td>2.000000e+00</td>\n",
       "      <td>0.000000e+00</td>\n",
       "    </tr>\n",
       "    <tr>\n",
       "      <th>50%</th>\n",
       "      <td>6.000000e+00</td>\n",
       "      <td>3.600000e+01</td>\n",
       "      <td>2.000000e+00</td>\n",
       "      <td>0.000000e+00</td>\n",
       "    </tr>\n",
       "    <tr>\n",
       "      <th>75%</th>\n",
       "      <td>8.000000e+00</td>\n",
       "      <td>5.400000e+01</td>\n",
       "      <td>3.000000e+00</td>\n",
       "      <td>1.000000e+00</td>\n",
       "    </tr>\n",
       "    <tr>\n",
       "      <th>max</th>\n",
       "      <td>9.000000e+00</td>\n",
       "      <td>9.300000e+01</td>\n",
       "      <td>3.000000e+00</td>\n",
       "      <td>1.000000e+00</td>\n",
       "    </tr>\n",
       "  </tbody>\n",
       "</table>\n",
       "</div>"
      ],
      "text/plain": [
       "               unit         cycle            Fc            hs\n",
       "count  5.571277e+06  5.571277e+06  5.571277e+06  5.571277e+06\n",
       "mean   5.382994e+00  3.637726e+01  2.170105e+00  3.319295e-01\n",
       "std    2.399958e+00  2.157529e+01  7.257075e-01  4.709059e-01\n",
       "min    1.000000e+00  1.000000e+00  1.000000e+00  0.000000e+00\n",
       "25%    3.000000e+00  1.800000e+01  2.000000e+00  0.000000e+00\n",
       "50%    6.000000e+00  3.600000e+01  2.000000e+00  0.000000e+00\n",
       "75%    8.000000e+00  5.400000e+01  3.000000e+00  1.000000e+00\n",
       "max    9.000000e+00  9.300000e+01  3.000000e+00  1.000000e+00"
      ]
     },
     "execution_count": 16,
     "metadata": {},
     "output_type": "execute_result"
    }
   ],
   "source": [
    "df_A = DataFrame(data=A_dev, columns=A_var)\n",
    "df_A_test = DataFrame(data=A_test, columns=A_var)\n",
    "df_A.describe()\n"
   ]
  },
  {
   "cell_type": "markdown",
   "id": "aef72245",
   "metadata": {},
   "source": [
    "### Unit Ids \n",
    "Mit diesem Codeabschnitt wird geschaut wie viele Triebwerke im Devset und im Testset sind."
   ]
  },
  {
   "cell_type": "code",
   "execution_count": 17,
   "id": "3ddc8a07",
   "metadata": {},
   "outputs": [
    {
     "name": "stdout",
     "output_type": "stream",
     "text": [
      "[1. 2. 3. 4. 5. 6. 7. 8. 9.]\n",
      "[10. 11. 12. 13. 14. 15.]\n"
     ]
    }
   ],
   "source": [
    "print(np.unique(df_A[\"unit\"]))\n",
    "print(np.unique(df_A_test[\"unit\"]))"
   ]
  },
  {
   "cell_type": "markdown",
   "id": "9fc24768",
   "metadata": {},
   "source": [
    "### Verfügbare Triebwerke pro Flugklasse"
   ]
  },
  {
   "cell_type": "code",
   "execution_count": 61,
   "id": "09ba7a61",
   "metadata": {},
   "outputs": [
    {
     "data": {
      "text/plain": [
       "Text(0, 0.5, 'Flight Class # [-]')"
      ]
     },
     "execution_count": 61,
     "metadata": {},
     "output_type": "execute_result"
    },
    {
     "data": {
      "image/png": "[encoded data removed]",
      "text/plain": [
       "<Figure size 640x480 with 1 Axes>"
      ]
     },
     "metadata": {},
     "output_type": "display_data"
    }
   ],
   "source": [
    "labelsize = 17\n",
    "# devset \n",
    "plt.plot(df_A.unit, df_A.Fc, 'o')\n",
    "plt.tick_params(axis='x', labelsize=labelsize )\n",
    "plt.tick_params(axis='y', labelsize=labelsize )\n",
    "plt.xlabel('Unit # [-]', fontsize=labelsize)\n",
    "plt.ylabel('Flight Class # [-]', fontsize=labelsize )\n",
    "\n",
    "# testset\n",
    "plt.plot(df_A_test.unit, df_A_test.Fc, 'o')\n",
    "plt.tick_params(axis='x', labelsize=labelsize )\n",
    "plt.tick_params(axis='y', labelsize=labelsize )\n",
    "plt.xlabel('Unit # [-]', fontsize=labelsize)\n",
    "plt.ylabel('Flight Class # [-]', fontsize=labelsize )"
   ]
  },
  {
   "cell_type": "markdown",
   "id": "7694ae66",
   "metadata": {},
   "source": [
    "## Datenaufbereitung"
   ]
  },
  {
   "cell_type": "code",
   "execution_count": 5,
   "id": "66add180",
   "metadata": {},
   "outputs": [],
   "source": [
    "# Train\n",
    "cycle = A_dev[:, 1].reshape(-1, 1)\n",
    "fc = A_dev[:, 0].reshape(-1, 1)\n",
    "X_train = np.concatenate((cycle, fc), axis=1)\n",
    "Y_train = Y_dev.ravel()\n",
    "\n",
    "# Test\n",
    "cycle_test = A_test[:, 1].reshape(-1, 1)\n",
    "fc_test = A_test[:, 0].reshape(-1, 1)\n",
    "X_test = np.concatenate((cycle_test, fc_test), axis=1)\n",
    "Y_test = Y_test.ravel()"
   ]
  },
  {
   "cell_type": "markdown",
   "id": "2d22cc9c",
   "metadata": {},
   "source": [
    "## XGBoost"
   ]
  },
  {
   "cell_type": "code",
   "execution_count": 2,
   "id": "9a307c2b",
   "metadata": {},
   "outputs": [],
   "source": [
    "# Import\n",
    "import xgboost as xgb\n",
    "from sklearn.metrics import root_mean_squared_error"
   ]
  },
  {
   "cell_type": "code",
   "execution_count": 11,
   "id": "36ec0347",
   "metadata": {},
   "outputs": [
    {
     "ename": "NameError",
     "evalue": "name 'X_train' is not defined",
     "output_type": "error",
     "traceback": [
      "\u001b[31m---------------------------------------------------------------------------\u001b[39m",
      "\u001b[31mNameError\u001b[39m                                 Traceback (most recent call last)",
      "\u001b[36mCell\u001b[39m\u001b[36m \u001b[39m\u001b[32mIn[11]\u001b[39m\u001b[32m, line 2\u001b[39m\n\u001b[32m      1\u001b[39m feature_names = ([\u001b[33m\"\u001b[39m\u001b[33mcycle\u001b[39m\u001b[33m\"\u001b[39m, \u001b[33m\"\u001b[39m\u001b[33mfc\u001b[39m\u001b[33m\"\u001b[39m])\n\u001b[32m----> \u001b[39m\u001b[32m2\u001b[39m dtrain = xgb.DMatrix(\u001b[43mX_train\u001b[49m, label=Y_train, feature_names=feature_names)\n\u001b[32m      3\u001b[39m dtest = xgb.DMatrix(X_test, label=Y_test, feature_names=feature_names)\n",
      "\u001b[31mNameError\u001b[39m: name 'X_train' is not defined"
     ]
    }
   ],
   "source": [
    "feature_names = ([\"cycle\", \"fc\"])\n",
    "dtrain = xgb.DMatrix(X_train, label=Y_train, feature_names=feature_names)\n",
    "dtest = xgb.DMatrix(X_test, label=Y_test, feature_names=feature_names)"
   ]
  },
  {
   "cell_type": "markdown",
   "id": "7de84661",
   "metadata": {},
   "source": [
    "### Model Training"
   ]
  },
  {
   "cell_type": "code",
   "execution_count": null,
   "id": "f610e031",
   "metadata": {},
   "outputs": [
    {
     "name": "stdout",
     "output_type": "stream",
     "text": [
      "[0]\ttrain-rmse:20.61029\teval-rmse:20.42010\n",
      "[10]\ttrain-rmse:15.32469\teval-rmse:15.63162\n",
      "[20]\ttrain-rmse:12.35717\teval-rmse:13.65211\n",
      "[30]\ttrain-rmse:10.01106\teval-rmse:12.57236\n",
      "[40]\ttrain-rmse:7.95960\teval-rmse:11.90311\n",
      "[50]\ttrain-rmse:6.66289\teval-rmse:12.15170\n",
      "[59]\ttrain-rmse:5.43430\teval-rmse:12.13180\n"
     ]
    }
   ],
   "source": [
    "# Training parameters\n",
    "params = {\n",
    "    \"objective\": \"reg:squarederror\",   # regression\n",
    "    \"max_depth\": 5,                    # tree depth\n",
    "    \"eta\": 0.05,                       # learning rate\n",
    "    \"subsample\": 0.8,                  # row sampling\n",
    "    \"colsample_bytree\": 0.8,           # feature\n",
    "    \"gamma\": 0.1,                      # require improvement to split \n",
    "    \"tree_method\": \"hist\",             # use GPU for training\n",
    "    \"device\": \"cuda\",                  # use GPU\n",
    "    \"seed\": 42\n",
    "}\n",
    "\n",
    "# Train model\n",
    "num_round = 600\n",
    "evallist = [(dtrain, \"train\"), (dtest, \"eval\")]\n",
    "\n",
    "bst = xgb.train(\n",
    "    params, \n",
    "    dtrain, \n",
    "    num_round, \n",
    "    evals=evallist, \n",
    "    early_stopping_rounds=20,  # stop if no improvement\n",
    "    verbose_eval=10            # print progress every 10 rounds\n",
    ")\n",
    "\n",
    "bst.save_model(\"../models/xgb_rul_onlycycle.json\")"
   ]
  },
  {
   "cell_type": "markdown",
   "id": "cf154d98",
   "metadata": {},
   "source": [
    "### Vorhersage  \n",
    "In dem folgenden Codeabschnitt wird zunächst das gespeicherte Modell geladen. Anschliessend wird für alle Datenpunkte im Testset das RUL vorhergesagt."
   ]
  },
  {
   "cell_type": "code",
   "execution_count": 5,
   "id": "633cbf64",
   "metadata": {},
   "outputs": [],
   "source": [
    "# Load the model\n",
    "model = xgb.Booster()\n",
    "model.load_model(\"../models/xgb_rul_onlycycle.json\")"
   ]
  },
  {
   "cell_type": "code",
   "execution_count": null,
   "id": "7c55d57c",
   "metadata": {},
   "outputs": [],
   "source": [
    "# Predict\n",
    "Y_pred = model.predict(dtest)"
   ]
  },
  {
   "cell_type": "code",
   "execution_count": null,
   "id": "35fc80ff",
   "metadata": {},
   "outputs": [
    {
     "name": "stdout",
     "output_type": "stream",
     "text": [
      "Predicted RUL: 25.45365\n"
     ]
    }
   ],
   "source": [
    "feature_names = ([\"cycle\", \"fc\"])\n",
    "new_sensor_value = xgb.DMatrix([[ 45, 3]], feature_names=feature_names) # insert new cycle and fc values\n",
    "\n",
    "rul_pred = model.predict(new_sensor_value)\n",
    "print(\"Predicted RUL:\", rul_pred[0])"
   ]
  },
  {
   "cell_type": "markdown",
   "id": "567f28c8",
   "metadata": {},
   "source": [
    "### Evaluation"
   ]
  },
  {
   "cell_type": "code",
   "execution_count": 11,
   "id": "4608338d",
   "metadata": {},
   "outputs": [
    {
     "name": "stdout",
     "output_type": "stream",
     "text": [
      "Test RMSE: 12.10\n"
     ]
    }
   ],
   "source": [
    "rmse = root_mean_squared_error(Y_test, Y_pred)\n",
    "print(f\"Test RMSE: {rmse:.2f}\")"
   ]
  },
  {
   "cell_type": "markdown",
   "id": "c2451cc5",
   "metadata": {},
   "source": [
    "Die Feature Importances zeigen an, welches Feature für das Modell am wichtigsten für die Vorhersage des RUL ist."
   ]
  },
  {
   "cell_type": "code",
   "execution_count": 13,
   "id": "a9291e33",
   "metadata": {},
   "outputs": [
    {
     "data": {
      "image/png": "[encoded data removed]",
      "text/plain": [
       "<Figure size 640x480 with 1 Axes>"
      ]
     },
     "metadata": {},
     "output_type": "display_data"
    }
   ],
   "source": [
    "# Feature importances\n",
    "xgb.plot_importance(model, importance_type=\"gain\", height=0.5)\n",
    "plt.xlabel(\"Feature index\")\n",
    "plt.ylabel(\"Importance\")\n",
    "plt.title(\"XGBoost with only Cycledata Feature Importances\")\n",
    "plt.show()"
   ]
  },
  {
   "cell_type": "code",
   "execution_count": 14,
   "id": "c0c7ac4e",
   "metadata": {},
   "outputs": [
    {
     "data": {
      "image/png": "[encoded data removed]",
      "text/plain": [
       "<Figure size 640x480 with 1 Axes>"
      ]
     },
     "metadata": {},
     "output_type": "display_data"
    }
   ],
   "source": [
    "unit_ids_test = A_test[:, 0]\n",
    "unit = 12\n",
    "indices = np.where(unit_ids_test == unit)[0]\n",
    "\n",
    "plt.plot(Y_test[indices], label=\"True RUL\")\n",
    "plt.plot(Y_pred[indices], label=\"Predicted RUL\")\n",
    "plt.title(f\"Engine {unit}\")\n",
    "plt.xlabel(\"Time step [s]\")\n",
    "plt.ylabel(\"RUL\")\n",
    "plt.legend()\n",
    "plt.grid(True)\n",
    "plt.show()\n"
   ]
  }
 ],
 "metadata": {
  "kernelspec": {
   "display_name": ".venv",
   "language": "python",
   "name": "python3"
  },
  "language_info": {
   "codemirror_mode": {
    "name": "ipython",
    "version": 3
   },
   "file_extension": ".py",
   "mimetype": "text/x-python",
   "name": "python",
   "nbconvert_exporter": "python",
   "pygments_lexer": "ipython3",
   "version": "3.13.2"
  }
 },
 "nbformat": 4,
 "nbformat_minor": 5
}
